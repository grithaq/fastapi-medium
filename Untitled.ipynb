{
 "cells": [
  {
   "cell_type": "code",
   "execution_count": 1,
   "id": "0e53fc37-7493-4885-b55f-88d1677a8db1",
   "metadata": {},
   "outputs": [],
   "source": [
    "from pydantic import BaseModel"
   ]
  },
  {
   "cell_type": "markdown",
   "id": "bad448ed-a8f7-496b-82a2-cb30b5a3c8ee",
   "metadata": {},
   "source": [
    "# Concepts"
   ]
  },
  {
   "cell_type": "markdown",
   "id": "edaad430-6f9e-4ba3-9fef-7eea4c7f6cef",
   "metadata": {},
   "source": [
    "#### Models"
   ]
  },
  {
   "cell_type": "code",
   "execution_count": 2,
   "id": "00399727-3b25-47d4-8070-9a752cfea5cd",
   "metadata": {},
   "outputs": [],
   "source": [
    "class User(BaseModel):\n",
    "    id: int\n",
    "    name: str = \"Jane Doe\""
   ]
  },
  {
   "cell_type": "code",
   "execution_count": 3,
   "id": "1656a092-047e-4f15-90c7-300d41043e0b",
   "metadata": {},
   "outputs": [],
   "source": [
    "user = User(id=123)"
   ]
  },
  {
   "cell_type": "code",
   "execution_count": 9,
   "id": "6c631876-fc8c-43ca-b788-08e8fdff7b89",
   "metadata": {},
   "outputs": [],
   "source": [
    "assert user.id == 123\n",
    "assert isinstance(user.id, int)"
   ]
  },
  {
   "cell_type": "code",
   "execution_count": null,
   "id": "ff158f33-c92b-4d76-9fa3-9113e8f24bc7",
   "metadata": {},
   "outputs": [],
   "source": []
  }
 ],
 "metadata": {
  "kernelspec": {
   "display_name": "Python 3 (ipykernel)",
   "language": "python",
   "name": "python3"
  },
  "language_info": {
   "codemirror_mode": {
    "name": "ipython",
    "version": 3
   },
   "file_extension": ".py",
   "mimetype": "text/x-python",
   "name": "python",
   "nbconvert_exporter": "python",
   "pygments_lexer": "ipython3",
   "version": "3.9.12"
  }
 },
 "nbformat": 4,
 "nbformat_minor": 5
}
