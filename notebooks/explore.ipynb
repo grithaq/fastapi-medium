{
 "cells": [
  {
   "cell_type": "code",
   "execution_count": 55,
   "metadata": {},
   "outputs": [],
   "source": [
    "from typing import List, TypeVar\n",
    "from dataclasses import dataclass\n",
    "\n",
    "T = TypeVar(\"T\")\n",
    "\n",
    "\n",
    "class User:\n",
    "    id: int\n",
    "    name: str\n",
    "\n",
    "    def __init__(self, id: int = None, name: str = None):\n",
    "        self.id = id\n",
    "        self.name = name\n",
    "\n",
    "    def __repr__(self) -> str:\n",
    "        return self.name\n",
    "\n",
    "\n",
    "class Category:\n",
    "    id: int\n",
    "    name: str\n",
    "    user: User\n",
    "\n",
    "    def __init__(self, id: int = None, name: str = None, user: User = None):\n",
    "        self.id = id\n",
    "        self.name = name\n",
    "        self.user = user\n",
    "\n",
    "    def __repr__(self) -> str:\n",
    "        return self.name\n",
    "\n",
    "\n",
    "class Todo:\n",
    "    id: int\n",
    "    title: str\n",
    "    description: str\n",
    "    categories: List[Category]\n",
    "    user: User\n",
    "\n",
    "    def __init__(self, id: int = None, title: str = None, description: str = None, categories: List[Category] = None, user: User = None) -> None:\n",
    "        self.id = id\n",
    "        self.title = title\n",
    "        self.description = description\n",
    "        self.categories = categories\n",
    "        self.user = user\n",
    "    \n",
    "    def __repr__(self) -> str:\n",
    "        self.title\n"
   ]
  },
  {
   "cell_type": "code",
   "execution_count": 65,
   "metadata": {},
   "outputs": [],
   "source": [
    "user = User()\n",
    "user.id = 1\n",
    "user.name = \"Jhon\"\n",
    "\n",
    "category = Category()\n",
    "category.id = 1\n",
    "category.name = \"Learning\"\n",
    "category.user = user\n",
    "\n",
    "category2 = Category()\n",
    "category2.id = 2\n",
    "category2.name = \"Programming\"\n",
    "category2.user = user\n",
    "\n",
    "category3 = Category()\n",
    "category3.id = 3\n",
    "category3.name = \"Python\"\n",
    "category3.user = user\n",
    "\n",
    "\n",
    "\n",
    "todo1 = Todo()\n",
    "todo1.id = 1\n",
    "todo1.title = \"Learning FastAPI\"\n",
    "todo1.description = \"Learning Fast API Basic\"\n",
    "todo1.categories = [category, category2]\n",
    "todo1.user = user"
   ]
  },
  {
   "cell_type": "code",
   "execution_count": 68,
   "metadata": {},
   "outputs": [],
   "source": [
    "todo1.categories.append(category3)"
   ]
  },
  {
   "cell_type": "code",
   "execution_count": null,
   "metadata": {},
   "outputs": [],
   "source": []
  },
  {
   "cell_type": "code",
   "execution_count": 57,
   "metadata": {},
   "outputs": [
    {
     "data": {
      "text/plain": [
       "Jhon"
      ]
     },
     "execution_count": 57,
     "metadata": {},
     "output_type": "execute_result"
    }
   ],
   "source": [
    "todo1.user"
   ]
  },
  {
   "cell_type": "code",
   "execution_count": 58,
   "metadata": {},
   "outputs": [
    {
     "data": {
      "text/plain": [
       "'Learn FastAPI'"
      ]
     },
     "execution_count": 58,
     "metadata": {},
     "output_type": "execute_result"
    }
   ],
   "source": [
    "u1.categories.todos.title"
   ]
  },
  {
   "cell_type": "code",
   "execution_count": 59,
   "metadata": {},
   "outputs": [],
   "source": [
    "from pydantic import BaseModel\n",
    "\n",
    "class TodoSchema(BaseModel):\n",
    "    id: int\n",
    "    title: str\n",
    "    description: str\n",
    "\n",
    "class UserSchema(BaseModel):\n",
    "    id: int\n",
    "    name: str\n",
    "    todos: List[TodoSchema]\n",
    "\n",
    "class CategorySchema(BaseModel):\n",
    "    id: int\n",
    "    name: str\n",
    "    todos: List[TodoSchema]\n",
    "\n",
    "\n",
    "class ListTodosSchema(BaseModel):\n",
    "    todos: List[TodoSchema]"
   ]
  },
  {
   "cell_type": "code",
   "execution_count": 43,
   "metadata": {},
   "outputs": [],
   "source": [
    "tds = TodoSchema(id = t1.id, title= t1.title, description=t1.description)"
   ]
  },
  {
   "cell_type": "code",
   "execution_count": 45,
   "metadata": {},
   "outputs": [
    {
     "data": {
      "text/plain": [
       "'{\"id\":1,\"title\":\"Learn FastAPI\",\"description\":\"Learn Basic FastAPI\"}'"
      ]
     },
     "execution_count": 45,
     "metadata": {},
     "output_type": "execute_result"
    }
   ],
   "source": [
    "tds.model_dump_json()"
   ]
  },
  {
   "cell_type": "code",
   "execution_count": null,
   "metadata": {},
   "outputs": [],
   "source": []
  }
 ],
 "metadata": {
  "kernelspec": {
   "display_name": "envku",
   "language": "python",
   "name": "python3"
  },
  "language_info": {
   "codemirror_mode": {
    "name": "ipython",
    "version": 3
   },
   "file_extension": ".py",
   "mimetype": "text/x-python",
   "name": "python",
   "nbconvert_exporter": "python",
   "pygments_lexer": "ipython3",
   "version": "3.9.12"
  }
 },
 "nbformat": 4,
 "nbformat_minor": 2
}
